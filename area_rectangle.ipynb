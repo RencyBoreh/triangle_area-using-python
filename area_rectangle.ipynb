{
 "cells": [
  {
   "cell_type": "code",
   "execution_count": 1,
   "id": "76345b80-4e5a-4f10-aabb-353be9812caa",
   "metadata": {},
   "outputs": [
    {
     "name": "stdin",
     "output_type": "stream",
     "text": [
      "Enter the Lenght: 20\n",
      "Enter the Width: 10\n"
     ]
    }
   ],
   "source": [
    "length=input(\"Enter the Lenght:\")\n",
    "width=input(\"Enter the Width:\")\n",
    "length=int(length)\n",
    "width=int(width)\n",
    "area=length*width"
   ]
  },
  {
   "cell_type": "code",
   "execution_count": 3,
   "id": "d145497f-6dda-4488-bcfd-b87bc557659f",
   "metadata": {},
   "outputs": [
    {
     "name": "stdout",
     "output_type": "stream",
     "text": [
      "The area of the rectangle is:200 cm\n"
     ]
    }
   ],
   "source": [
    "print(f\"The area of the rectangle is:{area} cm\")"
   ]
  },
  {
   "cell_type": "code",
   "execution_count": null,
   "id": "db271a67-0b85-4949-a93d-7bfe0066391c",
   "metadata": {},
   "outputs": [],
   "source": []
  }
 ],
 "metadata": {
  "kernelspec": {
   "display_name": "Python 3 (ipykernel)",
   "language": "python",
   "name": "python3"
  },
  "language_info": {
   "codemirror_mode": {
    "name": "ipython",
    "version": 3
   },
   "file_extension": ".py",
   "mimetype": "text/x-python",
   "name": "python",
   "nbconvert_exporter": "python",
   "pygments_lexer": "ipython3",
   "version": "3.12.4"
  }
 },
 "nbformat": 4,
 "nbformat_minor": 5
}
